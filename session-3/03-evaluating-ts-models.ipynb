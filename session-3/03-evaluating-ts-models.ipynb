{
 "cells": [
  {
   "cell_type": "markdown",
   "metadata": {},
   "source": [
    "# Evaluating a timeseries model\n",
    "\n",
    "[![Open in Colab](https://colab.research.google.com/assets/colab-badge.svg)](https://colab.research.google.com/github/tommoral/24-sacl-ai-4-sciences/blob/main/session-3/03-evaluating-ts-models.ipynb)\n",
    "\n",
    "```\n",
    "Authors: Thomas Moreau\n",
    "         Mathurin Massias\n",
    "         Alexandre Gramfort\n",
    "```\n",
    "\n",
    "\n",
    "The purpose of this notebook is to show the caveats of evaluating time-series models.\n",
    "Let's take an example of some financial quotes"
   ]
  },
  {
   "cell_type": "code",
   "execution_count": null,
   "metadata": {},
   "outputs": [],
   "source": [
    "from pathlib import Path\n",
    "import pandas as pd\n",
    "\n",
    "DATA_FILE = \"data/quotes.parquet\"\n",
    "URL_REPO = \"https://github.com/tomMoral/24-sacl-ai-4-sciences/raw/main/session-3/\"\n",
    "\n",
    "if Path(DATA_FILE).exists():\n",
    "    pd.read_parquet(DATA_FILE)\n",
    "else:\n",
    "    pd.read_parquet(f\"{URL_REPO}{DATA_FILE}\")"
   ]
  },
  {
   "cell_type": "code",
   "execution_count": null,
   "metadata": {},
   "outputs": [],
   "source": [
    "quotes.to_parquet()"
   ]
  },
  {
   "cell_type": "code",
   "execution_count": null,
   "metadata": {},
   "outputs": [],
   "source": [
    "_, ax = plt.subplots(figsize=(10, 6))\n",
    "_ = quotes.plot(ax=ax)"
   ]
  },
  {
   "cell_type": "markdown",
   "metadata": {},
   "source": [
    "Let's assume we want to predict the stock price of \"Chevron\" from the stock price of the other companies at each time point."
   ]
  },
  {
   "cell_type": "code",
   "execution_count": null,
   "metadata": {},
   "outputs": [],
   "source": [
    "quotes"
   ]
  },
  {
   "cell_type": "code",
   "execution_count": null,
   "metadata": {},
   "outputs": [],
   "source": [
    "from sklearn.ensemble import GradientBoostingRegressor\n",
    "\n",
    "X, y = quotes.drop(columns=[\"Chevron\"]), quotes[\"Chevron\"]\n",
    "regressor = GradientBoostingRegressor()"
   ]
  },
  {
   "cell_type": "code",
   "execution_count": null,
   "metadata": {},
   "outputs": [],
   "source": [
    "from sklearn.model_selection import ShuffleSplit\n",
    "from sklearn.model_selection import TimeSeriesSplit\n",
    "from sklearn.model_selection import cross_val_score\n",
    "\n",
    "cv = TimeSeriesSplit()\n",
    "scores = cross_val_score(regressor, X, y, cv=cv)\n",
    "print(f'Mean R2: {scores.mean():.2f}')"
   ]
  },
  {
   "cell_type": "markdown",
   "metadata": {},
   "source": [
    "<div class=\"alert alert-success\">\n",
    "\n",
    "**QUESTION:**\n",
    "\n",
    "- It seems that we have the perfect regressor. Is this normal? You will use the function `statsmodels.tsa.stattools.acf` look at the correlation between sucessive samples.\n",
    "- Did we break any assumption of the cross-validation procedure?\n",
    "\n",
    "</div>\n",
    "\n",
    "Solution is in: `solutions/00b-time_series_split.py`"
   ]
  },
  {
   "cell_type": "code",
   "execution_count": null,
   "metadata": {},
   "outputs": [],
   "source": []
  },
  {
   "cell_type": "markdown",
   "metadata": {},
   "source": [
    "Let's check the different type of cross-validation that are available in scikit-learn:\n",
    "\n",
    "https://scikit-learn.org/stable/auto_examples/model_selection/plot_cv_indices.html#sphx-glr-auto-examples-model-selection-plot-cv-indices-py"
   ]
  }
 ],
 "metadata": {
  "kernelspec": {
   "display_name": "Python 3 (ipykernel)",
   "language": "python",
   "name": "python3"
  },
  "language_info": {
   "codemirror_mode": {
    "name": "ipython",
    "version": 3
   },
   "file_extension": ".py",
   "mimetype": "text/x-python",
   "name": "python",
   "nbconvert_exporter": "python",
   "pygments_lexer": "ipython3",
   "version": "3.10.9"
  },
  "vscode": {
   "interpreter": {
    "hash": "8d1899d3d453529ab54a548c453eb03872168ef6a9900e12952b62a455030e12"
   }
  }
 },
 "nbformat": 4,
 "nbformat_minor": 4
}
